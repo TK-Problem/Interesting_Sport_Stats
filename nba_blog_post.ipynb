{
 "cells": [
  {
   "cell_type": "markdown",
   "metadata": {},
   "source": [
    "### Import packages"
   ]
  },
  {
   "cell_type": "code",
   "execution_count": 1,
   "metadata": {},
   "outputs": [],
   "source": [
    "import pandas as pd\n",
    "import numpy as np\n",
    "import seaborn as sns\n",
    "import datetime\n",
    "import matplotlib.pyplot as plt\n",
    "%matplotlib inline"
   ]
  },
  {
   "cell_type": "markdown",
   "metadata": {},
   "source": [
    "# 1. Data preparation\n",
    "Due to complicated data scraping procedure (website was rendered in Javascript), data is located in many different .csv files. This section is used to clean and preparare data for further analysis. Main objectives:\n",
    "* Load all data from .csv to pandas DataFrames,\n",
    "* Check for NAN values (drop rows with NAN values if needed),\n",
    "* Check for duplicates,\n",
    "* Concactinate everything into single large DataFrame,\n",
    "* Create a new DataFrame where each row would represent unique bet."
   ]
  },
  {
   "cell_type": "markdown",
   "metadata": {},
   "source": [
    "## 1.1 Basketball game outcomes\n",
    "File `basketball_games.csv` contains information about both NBA and Euroleague games for 2013-2018 seasons and games from curent NBA 2018/2019 season up to **DATE**. Each column provides information about:\n",
    "* League name,\n",
    "* Season match was played on,\n",
    "* Away team final score,\n",
    "* Home team final score,\n",
    "* Who won (1.0- Home team won, 0.0- Away Team won),\n",
    "* Did game require overtime (OT)? (1.0- Yes, 0.0- No),\n",
    "* Highest avaibable coeficient for Home win prior to match start,\n",
    "* Highest avaibable coeficient for Away win prior to match start,\n",
    "* Link to detailed information about the match. URL link is unique for each match."
   ]
  },
  {
   "cell_type": "code",
   "execution_count": 2,
   "metadata": {},
   "outputs": [
    {
     "data": {
      "text/html": [
       "<div>\n",
       "<style scoped>\n",
       "    .dataframe tbody tr th:only-of-type {\n",
       "        vertical-align: middle;\n",
       "    }\n",
       "\n",
       "    .dataframe tbody tr th {\n",
       "        vertical-align: top;\n",
       "    }\n",
       "\n",
       "    .dataframe thead th {\n",
       "        text-align: right;\n",
       "    }\n",
       "</style>\n",
       "<table border=\"1\" class=\"dataframe\">\n",
       "  <thead>\n",
       "    <tr style=\"text-align: right;\">\n",
       "      <th></th>\n",
       "      <th>League</th>\n",
       "      <th>Season</th>\n",
       "      <th>Home_score</th>\n",
       "      <th>Away_score</th>\n",
       "      <th>Win</th>\n",
       "      <th>OT</th>\n",
       "      <th>Home_p</th>\n",
       "      <th>Away_p</th>\n",
       "      <th>URL</th>\n",
       "    </tr>\n",
       "  </thead>\n",
       "  <tbody>\n",
       "    <tr>\n",
       "      <th>0</th>\n",
       "      <td>NBA</td>\n",
       "      <td>2018/2019</td>\n",
       "      <td>113.0</td>\n",
       "      <td>104.0</td>\n",
       "      <td>1.0</td>\n",
       "      <td>0.0</td>\n",
       "      <td>2.32</td>\n",
       "      <td>1.74</td>\n",
       "      <td>https://www.oddsportal.com/basketball/usa/nba/...</td>\n",
       "    </tr>\n",
       "    <tr>\n",
       "      <th>1</th>\n",
       "      <td>NBA</td>\n",
       "      <td>2018/2019</td>\n",
       "      <td>117.0</td>\n",
       "      <td>116.0</td>\n",
       "      <td>1.0</td>\n",
       "      <td>0.0</td>\n",
       "      <td>1.40</td>\n",
       "      <td>3.40</td>\n",
       "      <td>https://www.oddsportal.com/basketball/usa/nba/...</td>\n",
       "    </tr>\n",
       "    <tr>\n",
       "      <th>2</th>\n",
       "      <td>NBA</td>\n",
       "      <td>2018/2019</td>\n",
       "      <td>135.0</td>\n",
       "      <td>129.0</td>\n",
       "      <td>1.0</td>\n",
       "      <td>0.0</td>\n",
       "      <td>1.24</td>\n",
       "      <td>5.03</td>\n",
       "      <td>https://www.oddsportal.com/basketball/usa/nba/...</td>\n",
       "    </tr>\n",
       "    <tr>\n",
       "      <th>3</th>\n",
       "      <td>NBA</td>\n",
       "      <td>2018/2019</td>\n",
       "      <td>111.0</td>\n",
       "      <td>96.0</td>\n",
       "      <td>1.0</td>\n",
       "      <td>0.0</td>\n",
       "      <td>1.16</td>\n",
       "      <td>7.20</td>\n",
       "      <td>https://www.oddsportal.com/basketball/usa/nba/...</td>\n",
       "    </tr>\n",
       "    <tr>\n",
       "      <th>4</th>\n",
       "      <td>NBA</td>\n",
       "      <td>2018/2019</td>\n",
       "      <td>98.0</td>\n",
       "      <td>105.0</td>\n",
       "      <td>0.0</td>\n",
       "      <td>0.0</td>\n",
       "      <td>1.45</td>\n",
       "      <td>3.13</td>\n",
       "      <td>https://www.oddsportal.com/basketball/usa/nba/...</td>\n",
       "    </tr>\n",
       "  </tbody>\n",
       "</table>\n",
       "</div>"
      ],
      "text/plain": [
       "  League     Season  Home_score  Away_score  Win   OT  Home_p  Away_p  \\\n",
       "0    NBA  2018/2019       113.0       104.0  1.0  0.0    2.32    1.74   \n",
       "1    NBA  2018/2019       117.0       116.0  1.0  0.0    1.40    3.40   \n",
       "2    NBA  2018/2019       135.0       129.0  1.0  0.0    1.24    5.03   \n",
       "3    NBA  2018/2019       111.0        96.0  1.0  0.0    1.16    7.20   \n",
       "4    NBA  2018/2019        98.0       105.0  0.0  0.0    1.45    3.13   \n",
       "\n",
       "                                                 URL  \n",
       "0  https://www.oddsportal.com/basketball/usa/nba/...  \n",
       "1  https://www.oddsportal.com/basketball/usa/nba/...  \n",
       "2  https://www.oddsportal.com/basketball/usa/nba/...  \n",
       "3  https://www.oddsportal.com/basketball/usa/nba/...  \n",
       "4  https://www.oddsportal.com/basketball/usa/nba/...  "
      ]
     },
     "execution_count": 2,
     "metadata": {},
     "output_type": "execute_result"
    }
   ],
   "source": [
    "df_scores = pd.read_csv(\"data/basketball_games.csv\", index_col=0)\n",
    "df_scores.head()"
   ]
  },
  {
   "cell_type": "code",
   "execution_count": 3,
   "metadata": {},
   "outputs": [
    {
     "data": {
      "text/plain": [
       "League        0\n",
       "Season        0\n",
       "Home_score    1\n",
       "Away_score    1\n",
       "Win           1\n",
       "OT            1\n",
       "Home_p        0\n",
       "Away_p        0\n",
       "URL           0\n",
       "dtype: int64"
      ]
     },
     "execution_count": 3,
     "metadata": {},
     "output_type": "execute_result"
    }
   ],
   "source": [
    "# check for NAN values\n",
    "df_scores.isna().sum()"
   ]
  },
  {
   "cell_type": "code",
   "execution_count": 4,
   "metadata": {},
   "outputs": [
    {
     "name": "stdout",
     "output_type": "stream",
     "text": [
      "original data has 8696 entries\n",
      "after droping duplicates 8696 entries left\n",
      "after droping NAN values 8695 entries left\n"
     ]
    }
   ],
   "source": [
    "# Make sure there are no duplicate entries\n",
    "print(\"original data has {} entries\".format(df_scores.shape[0]))\n",
    "df_scores = df_scores.drop_duplicates(subset='URL', keep=\"first\")\n",
    "print(\"after droping duplicates {} entries left\".format(df_scores.shape[0]))\n",
    "# Drop missing values\n",
    "df_scores = df_scores.dropna()\n",
    "print(\"after droping NAN values {} entries left\".format(df_scores.shape[0]))"
   ]
  },
  {
   "cell_type": "code",
   "execution_count": 5,
   "metadata": {},
   "outputs": [],
   "source": [
    "# Calculate total points cored per match\n",
    "df_scores['Total'] = df_scores[\"Away_score\"] + df_scores[\"Home_score\"]\n",
    "# Change data type from float to integer\n",
    "df_scores[\"Win\"] = df_scores[\"Win\"].astype(int)\n",
    "df_scores[\"OT\"] = df_scores[\"OT\"].astype(int)"
   ]
  },
  {
   "cell_type": "code",
   "execution_count": 6,
   "metadata": {},
   "outputs": [
    {
     "data": {
      "text/plain": [
       "League  Season   \n",
       "EURO    2013/2014     260\n",
       "        2014/2015     258\n",
       "        2015/2016     250\n",
       "        2016/2017     259\n",
       "        2017/2018     260\n",
       "NBA     2013/2014    1428\n",
       "        2014/2015    1419\n",
       "        2015/2016    1418\n",
       "        2016/2017    1408\n",
       "        2017/2018    1384\n",
       "        2018/2019     351\n",
       "Name: URL, dtype: int64"
      ]
     },
     "execution_count": 6,
     "metadata": {},
     "output_type": "execute_result"
    }
   ],
   "source": [
    "# check how many entries per league per season there are\n",
    "df_scores.groupby([\"League\", \"Season\"])[\"URL\"].count()"
   ]
  },
  {
   "cell_type": "markdown",
   "metadata": {},
   "source": [
    "### 1.2 Detailed game odds information\n",
    "Files `NBA_201X_201Y.csv` contains detailed information about odds for different types of bets. Each column coresponds to:\n",
    "* Asian Handicap (AH), calculated to home team, e.g. +3.5 means that after match is over, 3.5 points are added to home team score and only then match winner is decided,\n",
    "* Coefficient for AH bet on Home team,\n",
    "* Coefficient for AH bet on Away team,\n",
    "* Over/Under (OU) value. Bet is won if total score is above (over) or bellow (under) the OU value. If OU is whole number, e.g. 157, and total points scored is equal to OU, bet is voided (money is returned to betor),\n",
    "* Over coefficient value,\n",
    "* Under coefficient value,\n",
    "* Home team name,\n",
    "* Away team name,\n",
    "* Date and hour match started,\n",
    "* Link to detailed information about the match. URL link is unique for each match."
   ]
  },
  {
   "cell_type": "code",
   "execution_count": 7,
   "metadata": {},
   "outputs": [
    {
     "data": {
      "text/html": [
       "<div>\n",
       "<style scoped>\n",
       "    .dataframe tbody tr th:only-of-type {\n",
       "        vertical-align: middle;\n",
       "    }\n",
       "\n",
       "    .dataframe tbody tr th {\n",
       "        vertical-align: top;\n",
       "    }\n",
       "\n",
       "    .dataframe thead th {\n",
       "        text-align: right;\n",
       "    }\n",
       "</style>\n",
       "<table border=\"1\" class=\"dataframe\">\n",
       "  <thead>\n",
       "    <tr style=\"text-align: right;\">\n",
       "      <th></th>\n",
       "      <th>AH</th>\n",
       "      <th>AH_Home</th>\n",
       "      <th>AH_Away</th>\n",
       "      <th>OU</th>\n",
       "      <th>Over</th>\n",
       "      <th>Under</th>\n",
       "      <th>Home_name</th>\n",
       "      <th>Away_name</th>\n",
       "      <th>Date</th>\n",
       "      <th>URL</th>\n",
       "    </tr>\n",
       "  </thead>\n",
       "  <tbody>\n",
       "    <tr>\n",
       "      <th>0</th>\n",
       "      <td>Asian handicap -5.5</td>\n",
       "      <td>2.02</td>\n",
       "      <td>2.00</td>\n",
       "      <td>Over/Under +196.5</td>\n",
       "      <td>2.10</td>\n",
       "      <td>1.91</td>\n",
       "      <td>San Antonio Spurs</td>\n",
       "      <td>Miami Heat</td>\n",
       "      <td>Monday, 16 Jun  2014, 03:00</td>\n",
       "      <td>https://www.oddsportal.com/basketball/usa/nba-...</td>\n",
       "    </tr>\n",
       "    <tr>\n",
       "      <th>1</th>\n",
       "      <td>Asian handicap -5</td>\n",
       "      <td>2.12</td>\n",
       "      <td>2.00</td>\n",
       "      <td>Over/Under +196</td>\n",
       "      <td>1.97</td>\n",
       "      <td>2.03</td>\n",
       "      <td>Miami Heat</td>\n",
       "      <td>San Antonio Spurs</td>\n",
       "      <td>Friday, 13 Jun  2014, 04:00</td>\n",
       "      <td>https://www.oddsportal.com/basketball/usa/nba-...</td>\n",
       "    </tr>\n",
       "    <tr>\n",
       "      <th>2</th>\n",
       "      <td>Asian handicap -4.5</td>\n",
       "      <td>1.99</td>\n",
       "      <td>2.06</td>\n",
       "      <td>Over/Under +197</td>\n",
       "      <td>1.98</td>\n",
       "      <td>1.97</td>\n",
       "      <td>Miami Heat</td>\n",
       "      <td>San Antonio Spurs</td>\n",
       "      <td>Wednesday, 11 Jun  2014, 04:00</td>\n",
       "      <td>https://www.oddsportal.com/basketball/usa/nba-...</td>\n",
       "    </tr>\n",
       "    <tr>\n",
       "      <th>3</th>\n",
       "      <td>Asian handicap -4.5</td>\n",
       "      <td>1.97</td>\n",
       "      <td>2.04</td>\n",
       "      <td>Over/Under +198.5</td>\n",
       "      <td>2.02</td>\n",
       "      <td>1.98</td>\n",
       "      <td>San Antonio Spurs</td>\n",
       "      <td>Miami Heat</td>\n",
       "      <td>Monday, 09 Jun  2014, 03:00</td>\n",
       "      <td>https://www.oddsportal.com/basketball/usa/nba-...</td>\n",
       "    </tr>\n",
       "    <tr>\n",
       "      <th>4</th>\n",
       "      <td>Asian handicap -5.5</td>\n",
       "      <td>2.02</td>\n",
       "      <td>1.98</td>\n",
       "      <td>Over/Under +198.5</td>\n",
       "      <td>2.04</td>\n",
       "      <td>1.98</td>\n",
       "      <td>San Antonio Spurs</td>\n",
       "      <td>Miami Heat</td>\n",
       "      <td>Friday, 06 Jun  2014, 04:00</td>\n",
       "      <td>https://www.oddsportal.com/basketball/usa/nba-...</td>\n",
       "    </tr>\n",
       "  </tbody>\n",
       "</table>\n",
       "</div>"
      ],
      "text/plain": [
       "                     AH  AH_Home  AH_Away                  OU  Over  Under  \\\n",
       "0  Asian handicap -5.5      2.02     2.00  Over/Under +196.5   2.10   1.91   \n",
       "1    Asian handicap -5      2.12     2.00    Over/Under +196   1.97   2.03   \n",
       "2  Asian handicap -4.5      1.99     2.06    Over/Under +197   1.98   1.97   \n",
       "3  Asian handicap -4.5      1.97     2.04  Over/Under +198.5   2.02   1.98   \n",
       "4  Asian handicap -5.5      2.02     1.98  Over/Under +198.5   2.04   1.98   \n",
       "\n",
       "           Home_name          Away_name                            Date  \\\n",
       "0  San Antonio Spurs         Miami Heat     Monday, 16 Jun  2014, 03:00   \n",
       "1         Miami Heat  San Antonio Spurs     Friday, 13 Jun  2014, 04:00   \n",
       "2         Miami Heat  San Antonio Spurs  Wednesday, 11 Jun  2014, 04:00   \n",
       "3  San Antonio Spurs         Miami Heat     Monday, 09 Jun  2014, 03:00   \n",
       "4  San Antonio Spurs         Miami Heat     Friday, 06 Jun  2014, 04:00   \n",
       "\n",
       "                                                 URL  \n",
       "0  https://www.oddsportal.com/basketball/usa/nba-...  \n",
       "1  https://www.oddsportal.com/basketball/usa/nba-...  \n",
       "2  https://www.oddsportal.com/basketball/usa/nba-...  \n",
       "3  https://www.oddsportal.com/basketball/usa/nba-...  \n",
       "4  https://www.oddsportal.com/basketball/usa/nba-...  "
      ]
     },
     "execution_count": 7,
     "metadata": {},
     "output_type": "execute_result"
    }
   ],
   "source": [
    "filenames = [\"NBA_2014_2015.csv\", \"NBA_2015_2016.csv\", \"NBA_2016_2017.csv\",\n",
    "            \"NBA_2017_2018.csv\", \"NBA_2018_2019_not_finished.csv\"]\n",
    "df_detailed = pd.read_csv(\"data/NBA_2013_2014.csv\", index_col=0)\n",
    "for fname in filenames:\n",
    "    df_detailed = pd.concat([df_detailed, pd.read_csv(\"data/\"+fname, index_col=0)], ignore_index=True)\n",
    "\n",
    "df_detailed.head()"
   ]
  },
  {
   "cell_type": "code",
   "execution_count": 8,
   "metadata": {},
   "outputs": [
    {
     "name": "stdout",
     "output_type": "stream",
     "text": [
      "original data has 7390 entries\n",
      "after removing duplicates 7390 entries left\n",
      "after removing NAN values 7373 entries left\n"
     ]
    }
   ],
   "source": [
    "# check for dublicate entries\n",
    "print(\"original data has {} entries\".format(df_detailed.shape[0]))\n",
    "df_detailed = df_detailed.drop_duplicates(subset='URL', keep=\"first\")\n",
    "print(\"after removing duplicates {} entries left\".format(df_detailed.shape[0]))\n",
    "# Drop missing values\n",
    "df_detailed = df_detailed.dropna()\n",
    "print(\"after removing NAN values {} entries left\".format(df_detailed.shape[0]))"
   ]
  },
  {
   "cell_type": "code",
   "execution_count": 9,
   "metadata": {},
   "outputs": [
    {
     "data": {
      "text/html": [
       "<div>\n",
       "<style scoped>\n",
       "    .dataframe tbody tr th:only-of-type {\n",
       "        vertical-align: middle;\n",
       "    }\n",
       "\n",
       "    .dataframe tbody tr th {\n",
       "        vertical-align: top;\n",
       "    }\n",
       "\n",
       "    .dataframe thead th {\n",
       "        text-align: right;\n",
       "    }\n",
       "</style>\n",
       "<table border=\"1\" class=\"dataframe\">\n",
       "  <thead>\n",
       "    <tr style=\"text-align: right;\">\n",
       "      <th></th>\n",
       "      <th>AH</th>\n",
       "      <th>AH_Home</th>\n",
       "      <th>AH_Away</th>\n",
       "      <th>OU</th>\n",
       "      <th>Over</th>\n",
       "      <th>Under</th>\n",
       "      <th>Home_name</th>\n",
       "      <th>Away_name</th>\n",
       "      <th>Date</th>\n",
       "      <th>URL</th>\n",
       "      <th>Month</th>\n",
       "    </tr>\n",
       "  </thead>\n",
       "  <tbody>\n",
       "    <tr>\n",
       "      <th>0</th>\n",
       "      <td>-5.5</td>\n",
       "      <td>2.02</td>\n",
       "      <td>2.00</td>\n",
       "      <td>196.5</td>\n",
       "      <td>2.10</td>\n",
       "      <td>1.91</td>\n",
       "      <td>San Antonio Spurs</td>\n",
       "      <td>Miami Heat</td>\n",
       "      <td>2014-06-16 03:00:00</td>\n",
       "      <td>https://www.oddsportal.com/basketball/usa/nba-...</td>\n",
       "      <td>6</td>\n",
       "    </tr>\n",
       "    <tr>\n",
       "      <th>1</th>\n",
       "      <td>-5.0</td>\n",
       "      <td>2.12</td>\n",
       "      <td>2.00</td>\n",
       "      <td>196.0</td>\n",
       "      <td>1.97</td>\n",
       "      <td>2.03</td>\n",
       "      <td>Miami Heat</td>\n",
       "      <td>San Antonio Spurs</td>\n",
       "      <td>2014-06-13 04:00:00</td>\n",
       "      <td>https://www.oddsportal.com/basketball/usa/nba-...</td>\n",
       "      <td>6</td>\n",
       "    </tr>\n",
       "    <tr>\n",
       "      <th>2</th>\n",
       "      <td>-4.5</td>\n",
       "      <td>1.99</td>\n",
       "      <td>2.06</td>\n",
       "      <td>197.0</td>\n",
       "      <td>1.98</td>\n",
       "      <td>1.97</td>\n",
       "      <td>Miami Heat</td>\n",
       "      <td>San Antonio Spurs</td>\n",
       "      <td>2014-06-11 04:00:00</td>\n",
       "      <td>https://www.oddsportal.com/basketball/usa/nba-...</td>\n",
       "      <td>6</td>\n",
       "    </tr>\n",
       "    <tr>\n",
       "      <th>3</th>\n",
       "      <td>-4.5</td>\n",
       "      <td>1.97</td>\n",
       "      <td>2.04</td>\n",
       "      <td>198.5</td>\n",
       "      <td>2.02</td>\n",
       "      <td>1.98</td>\n",
       "      <td>San Antonio Spurs</td>\n",
       "      <td>Miami Heat</td>\n",
       "      <td>2014-06-09 03:00:00</td>\n",
       "      <td>https://www.oddsportal.com/basketball/usa/nba-...</td>\n",
       "      <td>6</td>\n",
       "    </tr>\n",
       "    <tr>\n",
       "      <th>4</th>\n",
       "      <td>-5.5</td>\n",
       "      <td>2.02</td>\n",
       "      <td>1.98</td>\n",
       "      <td>198.5</td>\n",
       "      <td>2.04</td>\n",
       "      <td>1.98</td>\n",
       "      <td>San Antonio Spurs</td>\n",
       "      <td>Miami Heat</td>\n",
       "      <td>2014-06-06 04:00:00</td>\n",
       "      <td>https://www.oddsportal.com/basketball/usa/nba-...</td>\n",
       "      <td>6</td>\n",
       "    </tr>\n",
       "  </tbody>\n",
       "</table>\n",
       "</div>"
      ],
      "text/plain": [
       "    AH  AH_Home  AH_Away     OU  Over  Under          Home_name  \\\n",
       "0 -5.5     2.02     2.00  196.5  2.10   1.91  San Antonio Spurs   \n",
       "1 -5.0     2.12     2.00  196.0  1.97   2.03         Miami Heat   \n",
       "2 -4.5     1.99     2.06  197.0  1.98   1.97         Miami Heat   \n",
       "3 -4.5     1.97     2.04  198.5  2.02   1.98  San Antonio Spurs   \n",
       "4 -5.5     2.02     1.98  198.5  2.04   1.98  San Antonio Spurs   \n",
       "\n",
       "           Away_name                Date  \\\n",
       "0         Miami Heat 2014-06-16 03:00:00   \n",
       "1  San Antonio Spurs 2014-06-13 04:00:00   \n",
       "2  San Antonio Spurs 2014-06-11 04:00:00   \n",
       "3         Miami Heat 2014-06-09 03:00:00   \n",
       "4         Miami Heat 2014-06-06 04:00:00   \n",
       "\n",
       "                                                 URL  Month  \n",
       "0  https://www.oddsportal.com/basketball/usa/nba-...      6  \n",
       "1  https://www.oddsportal.com/basketball/usa/nba-...      6  \n",
       "2  https://www.oddsportal.com/basketball/usa/nba-...      6  \n",
       "3  https://www.oddsportal.com/basketball/usa/nba-...      6  \n",
       "4  https://www.oddsportal.com/basketball/usa/nba-...      6  "
      ]
     },
     "execution_count": 9,
     "metadata": {},
     "output_type": "execute_result"
    }
   ],
   "source": [
    "def convert_OU(s):\n",
    "    \"\"\"\n",
    "    Input:\n",
    "        s: string, e.g. \"Over/Under +157.5\"\n",
    "    Output:\n",
    "        float, 157.5\n",
    "    \"\"\"\n",
    "    try:\n",
    "        return float(s[12:-1])\n",
    "    except:\n",
    "        return np.nan\n",
    "    \n",
    "def convert_AH(s):\n",
    "    \"\"\"\n",
    "    Input:\n",
    "        s: string, e.g. \"Over/Under +157.5\"\n",
    "    Output:\n",
    "        float, 157.5\n",
    "    \"\"\"\n",
    "    try:\n",
    "        return float(s[15:-1])\n",
    "    except:\n",
    "        return np.nan\n",
    "\n",
    "# convert Over/Under and Asian Handicaps bet types to floats\n",
    "df_detailed[\"OU\"] = df_detailed[\"OU\"].astype(\"str\").apply(convert_OU)\n",
    "df_detailed[\"AH\"] = df_detailed[\"AH\"].astype(\"str\").apply(convert_AH)\n",
    "# Convert Date to datetime element\n",
    "df_detailed[\"Date\"] = pd.to_datetime(df_detailed['Date'], format='%A, %d %b %Y, %H:%M')\n",
    "# add month column\n",
    "df_detailed['Month'] = df_detailed['Date'].map(lambda x: int(x.month))\n",
    "df_detailed.head()"
   ]
  },
  {
   "cell_type": "markdown",
   "metadata": {},
   "source": [
    "## 1.3 Combine everything into one DataFrame"
   ]
  },
  {
   "cell_type": "code",
   "execution_count": 10,
   "metadata": {},
   "outputs": [
    {
     "data": {
      "text/plain": [
       "League  Season   \n",
       "NBA     2013/2014    1426\n",
       "        2014/2015    1410\n",
       "        2015/2016    1418\n",
       "        2016/2017    1408\n",
       "        2017/2018    1378\n",
       "        2018/2019     332\n",
       "Name: URL, dtype: int64"
      ]
     },
     "execution_count": 10,
     "metadata": {},
     "output_type": "execute_result"
    }
   ],
   "source": [
    "df = pd.merge(df_detailed, df_scores, on='URL', how='inner')\n",
    "# check how many entries per League season is left after cleaning data\n",
    "df.groupby([\"League\", \"Season\"])[\"URL\"].count()"
   ]
  },
  {
   "cell_type": "code",
   "execution_count": 11,
   "metadata": {},
   "outputs": [
    {
     "name": "stdout",
     "output_type": "stream",
     "text": [
      "Missing data entries per season after data wrangling\n"
     ]
    },
    {
     "data": {
      "text/plain": [
       "League  Season   \n",
       "NBA     2013/2014     2\n",
       "        2014/2015     9\n",
       "        2015/2016     0\n",
       "        2016/2017     0\n",
       "        2017/2018     6\n",
       "        2018/2019    19\n",
       "Name: URL, dtype: int64"
      ]
     },
     "execution_count": 11,
     "metadata": {},
     "output_type": "execute_result"
    }
   ],
   "source": [
    "# check how much data was lost due to data scraping and processing processing\n",
    "print(\"Missing data entries per season after data wrangling\")\n",
    "df_scores[df_scores[\"League\"]==\"NBA\"].groupby([\"League\", \"Season\"])[\"URL\"].count() - df.groupby([\"League\", \"Season\"])[\"URL\"].count()"
   ]
  },
  {
   "cell_type": "markdown",
   "metadata": {},
   "source": [
    "Information was not gathered only on 17 matches , i.e. only 0.48 % of all data was missing."
   ]
  },
  {
   "cell_type": "markdown",
   "metadata": {},
   "source": [
    "## 1.4 Create DataFrame for all posible bets\n",
    "\n",
    "Each row of `df` DataFrame contains information about 3 bets (6 posible outcomes), head to head (home or away team win), asian handicap (home or away team win) and totals (under or over X amount of points). "
   ]
  },
  {
   "cell_type": "code",
   "execution_count": 12,
   "metadata": {},
   "outputs": [
    {
     "name": "stdout",
     "output_type": "stream",
     "text": [
      "Wall time: 1min 38s\n"
     ]
    }
   ],
   "source": [
    "%%time\n",
    "_data = list()\n",
    "for idx in df.index:\n",
    "    # get head to head (H2H) bets\n",
    "    \n",
    "    # calculate total implied probability for home/away bet\n",
    "    implied_prop = 1/df.iloc[idx][\"Home_p\"] + 1/df.iloc[idx][\"Away_p\"]\n",
    "    \n",
    "    if df.iloc[idx][\"Home_score\"] > df.iloc[idx][\"Away_score\"]:\n",
    "        _data.append([\"H2H\", \"Home\", df.iloc[idx][\"Home_p\"],\n",
    "                      df.iloc[idx][\"Home_p\"]-1, implied_prop, df.iloc[idx][\"URL\"], 1])\n",
    "        _data.append([\"H2H\", \"Away\", df.iloc[idx][\"Away_p\"],\n",
    "                      -1, implied_prop, df.iloc[idx][\"URL\"], 0])\n",
    "    else:\n",
    "        _data.append([\"H2H\", \"Home\", df.iloc[idx][\"Home_p\"],\n",
    "                      -1, implied_prop, df.iloc[idx][\"URL\"], 0])\n",
    "        _data.append([\"H2H\", \"Away\", df.iloc[idx][\"Away_p\"],\n",
    "                      df.iloc[idx][\"Away_p\"]-1, implied_prop, df.iloc[idx][\"URL\"], 1])\n",
    "    \n",
    "    # get Asian handicap and Over/Under bets, but only from matches without overtime (OT)\n",
    "    # diffrent bookmakers have diffrent rules for OT games. For this reason I just exclude all OT games\n",
    "    if df.iloc[idx][\"OT\"] == 0:\n",
    "        \n",
    "        # get Asian Handicap bets\n",
    "    \n",
    "        # calculate total implied probability for asian handicap bet\n",
    "        implied_prop = 1/df.iloc[idx][\"AH_Home\"] + 1/df.iloc[idx][\"AH_Away\"]\n",
    "        if df.iloc[idx][\"Home_score\"] + df.iloc[idx][\"AH\"] > df.iloc[idx][\"Away_score\"]:\n",
    "            _data.append([\"AH\", \"Home\"+str(df.iloc[idx][\"AH\"]), df.iloc[idx][\"AH_Home\"],\n",
    "                          df.iloc[idx][\"AH_Home\"]-1, implied_prop, df.iloc[idx][\"URL\"], 1])\n",
    "            _data.append([\"AH\", \"Away\"+str(df.iloc[idx][\"AH\"]),\n",
    "                          df.iloc[idx][\"AH_Away\"], -1, implied_prop, df.iloc[idx][\"URL\"], 0])\n",
    "\n",
    "        elif df.iloc[idx][\"Home_score\"] + df.iloc[idx][\"AH\"] < df.iloc[idx][\"Away_score\"]:\n",
    "            _data.append([\"AH\", \"Home\"+str(df.iloc[idx][\"AH\"]), df.iloc[idx][\"AH_Home\"],\n",
    "                          -1, implied_prop, df.iloc[idx][\"URL\"], 0])\n",
    "            _data.append([\"AH\", \"Away\"+str(df.iloc[idx][\"AH\"]), df.iloc[idx][\"AH_Away\"],\n",
    "                          df.iloc[idx][\"AH_Away\"]-1, implied_prop, df.iloc[idx][\"URL\"], 1])\n",
    "        # bet is voided\n",
    "        else:\n",
    "            _data.append([\"AH\", \"Home\"+str(df.iloc[idx][\"AH\"]),  df.iloc[idx][\"AH_Home\"],\n",
    "                          0, implied_prop, df.iloc[idx][\"URL\"], np.nan])\n",
    "            _data.append([\"AH\", \"Away\"+str(df.iloc[idx][\"AH\"]), df.iloc[idx][\"AH_Away\"],\n",
    "                          0, implied_prop, df.iloc[idx][\"URL\"], np.nan])\n",
    "        \n",
    "    # calculate total implied probability for over/under bet\n",
    "        implied_prop = 1/df.iloc[idx][\"Over\"] + 1/df.iloc[idx][\"Under\"]\n",
    "        if df.iloc[idx][\"Total\"] >  df.iloc[idx][\"OU\"]:\n",
    "            _data.append([\"OU\", \"Over\"+str(df.iloc[idx][\"Total\"]),\n",
    "                          df.iloc[idx][\"Over\"], df.iloc[idx][\"Over\"]-1, implied_prop, df.iloc[idx][\"URL\"], 1])\n",
    "            _data.append([\"OU\", \"Under\"+str(df.iloc[idx][\"Total\"]),\n",
    "                          df.iloc[idx][\"Under\"], -1, implied_prop, df.iloc[idx][\"URL\"], 0])\n",
    "        elif df.iloc[idx][\"Total\"] <  df.iloc[idx][\"OU\"]:\n",
    "            _data.append([\"OU\", \"Over\"+str(df.iloc[idx][\"Total\"]),\n",
    "                          df.iloc[idx][\"Over\"], -1, implied_prop, df.iloc[idx][\"URL\"], 0])\n",
    "            _data.append([\"OU\", \"Under\"+str(df.iloc[idx][\"Total\"]),\n",
    "                          df.iloc[idx][\"Under\"], df.iloc[idx][\"Over\"]-1, implied_prop, df.iloc[idx][\"URL\"], 1])\n",
    "        # bet is voided\n",
    "        else:\n",
    "            _data.append([\"OU\", \"Over\"+str(df.iloc[idx][\"Total\"]),\n",
    "                          df.iloc[idx][\"Over\"], 0, implied_prop, df.iloc[idx][\"URL\"], np.nan])\n",
    "            _data.append([\"OU\", \"Under\"+str(df.iloc[idx][\"Total\"]),\n",
    "                          df.iloc[idx][\"Under\"], 0, implied_prop, df.iloc[idx][\"URL\"], np.nan])  "
   ]
  },
  {
   "cell_type": "code",
   "execution_count": 13,
   "metadata": {},
   "outputs": [
    {
     "data": {
      "text/html": [
       "<div>\n",
       "<style scoped>\n",
       "    .dataframe tbody tr th:only-of-type {\n",
       "        vertical-align: middle;\n",
       "    }\n",
       "\n",
       "    .dataframe tbody tr th {\n",
       "        vertical-align: top;\n",
       "    }\n",
       "\n",
       "    .dataframe thead th {\n",
       "        text-align: right;\n",
       "    }\n",
       "</style>\n",
       "<table border=\"1\" class=\"dataframe\">\n",
       "  <thead>\n",
       "    <tr style=\"text-align: right;\">\n",
       "      <th></th>\n",
       "      <th>Bet type</th>\n",
       "      <th>Bet subtype</th>\n",
       "      <th>Odds</th>\n",
       "      <th>Net outcome</th>\n",
       "      <th>Total implied probability</th>\n",
       "      <th>URL</th>\n",
       "      <th>Bet outcome</th>\n",
       "      <th>Implied probability</th>\n",
       "    </tr>\n",
       "  </thead>\n",
       "  <tbody>\n",
       "    <tr>\n",
       "      <th>0</th>\n",
       "      <td>H2H</td>\n",
       "      <td>Home</td>\n",
       "      <td>1.50</td>\n",
       "      <td>0.50</td>\n",
       "      <td>1.005650</td>\n",
       "      <td>https://www.oddsportal.com/basketball/usa/nba-...</td>\n",
       "      <td>1.0</td>\n",
       "      <td>0.67</td>\n",
       "    </tr>\n",
       "    <tr>\n",
       "      <th>1</th>\n",
       "      <td>H2H</td>\n",
       "      <td>Away</td>\n",
       "      <td>2.95</td>\n",
       "      <td>-1.00</td>\n",
       "      <td>1.005650</td>\n",
       "      <td>https://www.oddsportal.com/basketball/usa/nba-...</td>\n",
       "      <td>0.0</td>\n",
       "      <td>0.34</td>\n",
       "    </tr>\n",
       "    <tr>\n",
       "      <th>2</th>\n",
       "      <td>AH</td>\n",
       "      <td>Home-5.5</td>\n",
       "      <td>2.02</td>\n",
       "      <td>1.02</td>\n",
       "      <td>0.995050</td>\n",
       "      <td>https://www.oddsportal.com/basketball/usa/nba-...</td>\n",
       "      <td>1.0</td>\n",
       "      <td>0.50</td>\n",
       "    </tr>\n",
       "    <tr>\n",
       "      <th>3</th>\n",
       "      <td>AH</td>\n",
       "      <td>Away-5.5</td>\n",
       "      <td>2.00</td>\n",
       "      <td>-1.00</td>\n",
       "      <td>0.995050</td>\n",
       "      <td>https://www.oddsportal.com/basketball/usa/nba-...</td>\n",
       "      <td>0.0</td>\n",
       "      <td>0.50</td>\n",
       "    </tr>\n",
       "    <tr>\n",
       "      <th>4</th>\n",
       "      <td>OU</td>\n",
       "      <td>Over191.0</td>\n",
       "      <td>2.10</td>\n",
       "      <td>-1.00</td>\n",
       "      <td>0.999751</td>\n",
       "      <td>https://www.oddsportal.com/basketball/usa/nba-...</td>\n",
       "      <td>0.0</td>\n",
       "      <td>0.48</td>\n",
       "    </tr>\n",
       "  </tbody>\n",
       "</table>\n",
       "</div>"
      ],
      "text/plain": [
       "  Bet type Bet subtype  Odds  Net outcome  Total implied probability  \\\n",
       "0      H2H        Home  1.50         0.50                   1.005650   \n",
       "1      H2H        Away  2.95        -1.00                   1.005650   \n",
       "2       AH    Home-5.5  2.02         1.02                   0.995050   \n",
       "3       AH    Away-5.5  2.00        -1.00                   0.995050   \n",
       "4       OU   Over191.0  2.10        -1.00                   0.999751   \n",
       "\n",
       "                                                 URL  Bet outcome  \\\n",
       "0  https://www.oddsportal.com/basketball/usa/nba-...          1.0   \n",
       "1  https://www.oddsportal.com/basketball/usa/nba-...          0.0   \n",
       "2  https://www.oddsportal.com/basketball/usa/nba-...          1.0   \n",
       "3  https://www.oddsportal.com/basketball/usa/nba-...          0.0   \n",
       "4  https://www.oddsportal.com/basketball/usa/nba-...          0.0   \n",
       "\n",
       "   Implied probability  \n",
       "0                 0.67  \n",
       "1                 0.34  \n",
       "2                 0.50  \n",
       "3                 0.50  \n",
       "4                 0.48  "
      ]
     },
     "execution_count": 13,
     "metadata": {},
     "output_type": "execute_result"
    }
   ],
   "source": [
    "# create new DataFrame for all bets\n",
    "df_bets = pd.DataFrame(_data,\n",
    "                       columns=[\"Bet type\", \"Bet subtype\", \"Odds\", \"Net outcome\",\n",
    "                                \"Total implied probability\", \"URL\", \"Bet outcome\"])  \n",
    "\n",
    "# round to float 2 precision to avoid Python float precision issues\n",
    "df_bets[\"Implied probability\"] = round(1.0/df_bets[\"Odds\"], 2)\n",
    "df_bets.head()"
   ]
  },
  {
   "cell_type": "code",
   "execution_count": 14,
   "metadata": {},
   "outputs": [
    {
     "data": {
      "text/html": [
       "<div>\n",
       "<style scoped>\n",
       "    .dataframe tbody tr th:only-of-type {\n",
       "        vertical-align: middle;\n",
       "    }\n",
       "\n",
       "    .dataframe tbody tr th {\n",
       "        vertical-align: top;\n",
       "    }\n",
       "\n",
       "    .dataframe thead th {\n",
       "        text-align: right;\n",
       "    }\n",
       "</style>\n",
       "<table border=\"1\" class=\"dataframe\">\n",
       "  <thead>\n",
       "    <tr style=\"text-align: right;\">\n",
       "      <th></th>\n",
       "      <th>Bet type</th>\n",
       "      <th>Bet subtype</th>\n",
       "      <th>Odds</th>\n",
       "      <th>Net outcome</th>\n",
       "      <th>Total implied probability</th>\n",
       "      <th>URL</th>\n",
       "      <th>Bet outcome</th>\n",
       "      <th>Implied probability</th>\n",
       "      <th>Home_name</th>\n",
       "      <th>Away_name</th>\n",
       "      <th>Date</th>\n",
       "      <th>League</th>\n",
       "      <th>Season</th>\n",
       "    </tr>\n",
       "  </thead>\n",
       "  <tbody>\n",
       "    <tr>\n",
       "      <th>0</th>\n",
       "      <td>H2H</td>\n",
       "      <td>Home</td>\n",
       "      <td>1.50</td>\n",
       "      <td>0.50</td>\n",
       "      <td>1.005650</td>\n",
       "      <td>https://www.oddsportal.com/basketball/usa/nba-...</td>\n",
       "      <td>1.0</td>\n",
       "      <td>0.67</td>\n",
       "      <td>San Antonio Spurs</td>\n",
       "      <td>Miami Heat</td>\n",
       "      <td>2014-06-16 03:00:00</td>\n",
       "      <td>NBA</td>\n",
       "      <td>2013/2014</td>\n",
       "    </tr>\n",
       "    <tr>\n",
       "      <th>1</th>\n",
       "      <td>H2H</td>\n",
       "      <td>Away</td>\n",
       "      <td>2.95</td>\n",
       "      <td>-1.00</td>\n",
       "      <td>1.005650</td>\n",
       "      <td>https://www.oddsportal.com/basketball/usa/nba-...</td>\n",
       "      <td>0.0</td>\n",
       "      <td>0.34</td>\n",
       "      <td>San Antonio Spurs</td>\n",
       "      <td>Miami Heat</td>\n",
       "      <td>2014-06-16 03:00:00</td>\n",
       "      <td>NBA</td>\n",
       "      <td>2013/2014</td>\n",
       "    </tr>\n",
       "    <tr>\n",
       "      <th>2</th>\n",
       "      <td>AH</td>\n",
       "      <td>Home-5.5</td>\n",
       "      <td>2.02</td>\n",
       "      <td>1.02</td>\n",
       "      <td>0.995050</td>\n",
       "      <td>https://www.oddsportal.com/basketball/usa/nba-...</td>\n",
       "      <td>1.0</td>\n",
       "      <td>0.50</td>\n",
       "      <td>San Antonio Spurs</td>\n",
       "      <td>Miami Heat</td>\n",
       "      <td>2014-06-16 03:00:00</td>\n",
       "      <td>NBA</td>\n",
       "      <td>2013/2014</td>\n",
       "    </tr>\n",
       "    <tr>\n",
       "      <th>3</th>\n",
       "      <td>AH</td>\n",
       "      <td>Away-5.5</td>\n",
       "      <td>2.00</td>\n",
       "      <td>-1.00</td>\n",
       "      <td>0.995050</td>\n",
       "      <td>https://www.oddsportal.com/basketball/usa/nba-...</td>\n",
       "      <td>0.0</td>\n",
       "      <td>0.50</td>\n",
       "      <td>San Antonio Spurs</td>\n",
       "      <td>Miami Heat</td>\n",
       "      <td>2014-06-16 03:00:00</td>\n",
       "      <td>NBA</td>\n",
       "      <td>2013/2014</td>\n",
       "    </tr>\n",
       "    <tr>\n",
       "      <th>4</th>\n",
       "      <td>OU</td>\n",
       "      <td>Over191.0</td>\n",
       "      <td>2.10</td>\n",
       "      <td>-1.00</td>\n",
       "      <td>0.999751</td>\n",
       "      <td>https://www.oddsportal.com/basketball/usa/nba-...</td>\n",
       "      <td>0.0</td>\n",
       "      <td>0.48</td>\n",
       "      <td>San Antonio Spurs</td>\n",
       "      <td>Miami Heat</td>\n",
       "      <td>2014-06-16 03:00:00</td>\n",
       "      <td>NBA</td>\n",
       "      <td>2013/2014</td>\n",
       "    </tr>\n",
       "  </tbody>\n",
       "</table>\n",
       "</div>"
      ],
      "text/plain": [
       "  Bet type Bet subtype  Odds  Net outcome  Total implied probability  \\\n",
       "0      H2H        Home  1.50         0.50                   1.005650   \n",
       "1      H2H        Away  2.95        -1.00                   1.005650   \n",
       "2       AH    Home-5.5  2.02         1.02                   0.995050   \n",
       "3       AH    Away-5.5  2.00        -1.00                   0.995050   \n",
       "4       OU   Over191.0  2.10        -1.00                   0.999751   \n",
       "\n",
       "                                                 URL  Bet outcome  \\\n",
       "0  https://www.oddsportal.com/basketball/usa/nba-...          1.0   \n",
       "1  https://www.oddsportal.com/basketball/usa/nba-...          0.0   \n",
       "2  https://www.oddsportal.com/basketball/usa/nba-...          1.0   \n",
       "3  https://www.oddsportal.com/basketball/usa/nba-...          0.0   \n",
       "4  https://www.oddsportal.com/basketball/usa/nba-...          0.0   \n",
       "\n",
       "   Implied probability          Home_name   Away_name                Date  \\\n",
       "0                 0.67  San Antonio Spurs  Miami Heat 2014-06-16 03:00:00   \n",
       "1                 0.34  San Antonio Spurs  Miami Heat 2014-06-16 03:00:00   \n",
       "2                 0.50  San Antonio Spurs  Miami Heat 2014-06-16 03:00:00   \n",
       "3                 0.50  San Antonio Spurs  Miami Heat 2014-06-16 03:00:00   \n",
       "4                 0.48  San Antonio Spurs  Miami Heat 2014-06-16 03:00:00   \n",
       "\n",
       "  League     Season  \n",
       "0    NBA  2013/2014  \n",
       "1    NBA  2013/2014  \n",
       "2    NBA  2013/2014  \n",
       "3    NBA  2013/2014  \n",
       "4    NBA  2013/2014  "
      ]
     },
     "execution_count": 14,
     "metadata": {},
     "output_type": "execute_result"
    }
   ],
   "source": [
    "# add information about match, team names, league and season.\n",
    "df_bets = pd.merge(df_bets, df[[\"Home_name\", \"Away_name\", \"Date\", \"League\", \"Season\",\"URL\"]],\n",
    "                   on='URL', how='inner')\n",
    "df_bets.head()"
   ]
  },
  {
   "cell_type": "markdown",
   "metadata": {},
   "source": [
    "## 1.5 Sanity check\n",
    "Check that everything was correctly converted from `df` to `df_bets`, i.e. same amount of bets left."
   ]
  },
  {
   "cell_type": "code",
   "execution_count": 15,
   "metadata": {},
   "outputs": [
    {
     "name": "stdout",
     "output_type": "stream",
     "text": [
      "Unique URL: 7372\n",
      "Head 2 head bets divided by 2: 7372.0\n"
     ]
    }
   ],
   "source": [
    "# Head to Head same number of bets as unique URL links\n",
    "print(\"Unique URL: {}\".format(df_bets[\"URL\"].nunique()))\n",
    "print(\"Head 2 head bets divided by 2: {}\".format(df_bets[df_bets[\"Bet type\"] == \"H2H\"].shape[0]/2))"
   ]
  },
  {
   "cell_type": "code",
   "execution_count": 16,
   "metadata": {},
   "outputs": [
    {
     "name": "stdout",
     "output_type": "stream",
     "text": [
      "7372 OU games before procedure\n",
      "6938.0 OU games after procedure\n",
      "434 overtime games excluded\n",
      "With OT games included 7372.0\n"
     ]
    }
   ],
   "source": [
    "# check over/under bets. Add removed overtime bets\n",
    "print(\"{} OU games before procedure\".format(df[\"OU\"].shape[0]))\n",
    "print(\"{} OU games after procedure\".format(df_bets[df_bets[\"Bet type\"] == \"OU\"].shape[0]/2))\n",
    "print(\"{} overtime games excluded\".format(df[\"OT\"].sum()))\n",
    "print(\"With OT games included {}\".format(df_bets[df_bets[\"Bet type\"] == \"OU\"].shape[0]/2 + df[\"OT\"].sum()))"
   ]
  },
  {
   "cell_type": "code",
   "execution_count": 17,
   "metadata": {},
   "outputs": [
    {
     "name": "stdout",
     "output_type": "stream",
     "text": [
      "7372 AH bets before procedure\n",
      "6938.0 AH bets after procedure\n",
      "With OT games included 7372.0\n"
     ]
    }
   ],
   "source": [
    "# check asian handicap bets\n",
    "print(\"{} AH bets before procedure\".format(df[\"AH\"].shape[0]))\n",
    "print(\"{} AH bets after procedure\".format(df_bets[df_bets[\"Bet type\"] == \"AH\"].shape[0]/2))\n",
    "print(\"With OT games included {}\".format(df_bets[df_bets[\"Bet type\"] == \"AH\"].shape[0]/2 + df[\"OT\"].sum()))"
   ]
  },
  {
   "cell_type": "code",
   "execution_count": 18,
   "metadata": {},
   "outputs": [
    {
     "data": {
      "text/plain": [
       "H2H    14744\n",
       "AH     13876\n",
       "OU     13876\n",
       "Name: Bet type, dtype: int64"
      ]
     },
     "execution_count": 18,
     "metadata": {},
     "output_type": "execute_result"
    }
   ],
   "source": [
    "# count number of bets per bet type\n",
    "df_bets[\"Bet type\"].value_counts()"
   ]
  },
  {
   "cell_type": "code",
   "execution_count": 19,
   "metadata": {},
   "outputs": [
    {
     "data": {
      "text/plain": [
       "104"
      ]
     },
     "execution_count": 19,
     "metadata": {},
     "output_type": "execute_result"
    }
   ],
   "source": [
    "# number of voided Over/Under bets\n",
    "df_bets[df_bets[\"Bet type\"] == \"OU\"][\"Bet outcome\"].isna().sum()"
   ]
  },
  {
   "cell_type": "code",
   "execution_count": 20,
   "metadata": {},
   "outputs": [
    {
     "data": {
      "text/plain": [
       "174"
      ]
     },
     "execution_count": 20,
     "metadata": {},
     "output_type": "execute_result"
    }
   ],
   "source": [
    "# number of voided Asian handicap bets\n",
    "df_bets[df_bets[\"Bet type\"] == \"AH\"][\"Bet outcome\"].isna().sum()"
   ]
  },
  {
   "cell_type": "code",
   "execution_count": 21,
   "metadata": {},
   "outputs": [
    {
     "data": {
      "text/plain": [
       "21248.0"
      ]
     },
     "execution_count": 21,
     "metadata": {},
     "output_type": "execute_result"
    }
   ],
   "source": [
    "# number of unique bets, each bet has 2 outcomes, hence divide by 2\n",
    "df_bets.shape[0]/2"
   ]
  },
  {
   "cell_type": "markdown",
   "metadata": {},
   "source": [
    "# 2. Implied probability\n",
    "\n",
    "**NULL hypothesis**- betting randomly on Home/Away win, asian handicap or total points scored per game markets is not profitable in long run. Return on investment (ROI) is negative or equal to 0."
   ]
  },
  {
   "cell_type": "code",
   "execution_count": 22,
   "metadata": {},
   "outputs": [
    {
     "name": "stdout",
     "output_type": "stream",
     "text": [
      "Average total implied propability 100.17 %\n"
     ]
    }
   ],
   "source": [
    "average_implied_prop = df_bets[\"Total implied probability\"].mean() * 100\n",
    "print(\"Average total implied propability {:.2f} %\".format(average_implied_prop))"
   ]
  },
  {
   "cell_type": "code",
   "execution_count": 23,
   "metadata": {},
   "outputs": [
    {
     "data": {
      "text/html": [
       "<div>\n",
       "<style scoped>\n",
       "    .dataframe tbody tr th:only-of-type {\n",
       "        vertical-align: middle;\n",
       "    }\n",
       "\n",
       "    .dataframe tbody tr th {\n",
       "        vertical-align: top;\n",
       "    }\n",
       "\n",
       "    .dataframe thead th {\n",
       "        text-align: right;\n",
       "    }\n",
       "</style>\n",
       "<table border=\"1\" class=\"dataframe\">\n",
       "  <thead>\n",
       "    <tr style=\"text-align: right;\">\n",
       "      <th></th>\n",
       "      <th>Bet type</th>\n",
       "      <th>Bet subtype</th>\n",
       "      <th>Odds</th>\n",
       "      <th>Net outcome</th>\n",
       "      <th>Total implied probability</th>\n",
       "      <th>URL</th>\n",
       "      <th>Bet outcome</th>\n",
       "      <th>Implied probability</th>\n",
       "      <th>Home_name</th>\n",
       "      <th>Away_name</th>\n",
       "      <th>Date</th>\n",
       "      <th>League</th>\n",
       "      <th>Season</th>\n",
       "    </tr>\n",
       "  </thead>\n",
       "  <tbody>\n",
       "    <tr>\n",
       "      <th>0</th>\n",
       "      <td>H2H</td>\n",
       "      <td>Home</td>\n",
       "      <td>1.50</td>\n",
       "      <td>0.50</td>\n",
       "      <td>1.005650</td>\n",
       "      <td>https://www.oddsportal.com/basketball/usa/nba-...</td>\n",
       "      <td>1.0</td>\n",
       "      <td>0.67</td>\n",
       "      <td>San Antonio Spurs</td>\n",
       "      <td>Miami Heat</td>\n",
       "      <td>2014-06-16 03:00:00</td>\n",
       "      <td>NBA</td>\n",
       "      <td>2013/2014</td>\n",
       "    </tr>\n",
       "    <tr>\n",
       "      <th>1</th>\n",
       "      <td>H2H</td>\n",
       "      <td>Away</td>\n",
       "      <td>2.95</td>\n",
       "      <td>-1.00</td>\n",
       "      <td>1.005650</td>\n",
       "      <td>https://www.oddsportal.com/basketball/usa/nba-...</td>\n",
       "      <td>0.0</td>\n",
       "      <td>0.34</td>\n",
       "      <td>San Antonio Spurs</td>\n",
       "      <td>Miami Heat</td>\n",
       "      <td>2014-06-16 03:00:00</td>\n",
       "      <td>NBA</td>\n",
       "      <td>2013/2014</td>\n",
       "    </tr>\n",
       "    <tr>\n",
       "      <th>2</th>\n",
       "      <td>AH</td>\n",
       "      <td>Home-5.5</td>\n",
       "      <td>2.02</td>\n",
       "      <td>1.02</td>\n",
       "      <td>0.995050</td>\n",
       "      <td>https://www.oddsportal.com/basketball/usa/nba-...</td>\n",
       "      <td>1.0</td>\n",
       "      <td>0.50</td>\n",
       "      <td>San Antonio Spurs</td>\n",
       "      <td>Miami Heat</td>\n",
       "      <td>2014-06-16 03:00:00</td>\n",
       "      <td>NBA</td>\n",
       "      <td>2013/2014</td>\n",
       "    </tr>\n",
       "    <tr>\n",
       "      <th>3</th>\n",
       "      <td>AH</td>\n",
       "      <td>Away-5.5</td>\n",
       "      <td>2.00</td>\n",
       "      <td>-1.00</td>\n",
       "      <td>0.995050</td>\n",
       "      <td>https://www.oddsportal.com/basketball/usa/nba-...</td>\n",
       "      <td>0.0</td>\n",
       "      <td>0.50</td>\n",
       "      <td>San Antonio Spurs</td>\n",
       "      <td>Miami Heat</td>\n",
       "      <td>2014-06-16 03:00:00</td>\n",
       "      <td>NBA</td>\n",
       "      <td>2013/2014</td>\n",
       "    </tr>\n",
       "    <tr>\n",
       "      <th>4</th>\n",
       "      <td>OU</td>\n",
       "      <td>Over191.0</td>\n",
       "      <td>2.10</td>\n",
       "      <td>-1.00</td>\n",
       "      <td>0.999751</td>\n",
       "      <td>https://www.oddsportal.com/basketball/usa/nba-...</td>\n",
       "      <td>0.0</td>\n",
       "      <td>0.48</td>\n",
       "      <td>San Antonio Spurs</td>\n",
       "      <td>Miami Heat</td>\n",
       "      <td>2014-06-16 03:00:00</td>\n",
       "      <td>NBA</td>\n",
       "      <td>2013/2014</td>\n",
       "    </tr>\n",
       "  </tbody>\n",
       "</table>\n",
       "</div>"
      ],
      "text/plain": [
       "  Bet type Bet subtype  Odds  Net outcome  Total implied probability  \\\n",
       "0      H2H        Home  1.50         0.50                   1.005650   \n",
       "1      H2H        Away  2.95        -1.00                   1.005650   \n",
       "2       AH    Home-5.5  2.02         1.02                   0.995050   \n",
       "3       AH    Away-5.5  2.00        -1.00                   0.995050   \n",
       "4       OU   Over191.0  2.10        -1.00                   0.999751   \n",
       "\n",
       "                                                 URL  Bet outcome  \\\n",
       "0  https://www.oddsportal.com/basketball/usa/nba-...          1.0   \n",
       "1  https://www.oddsportal.com/basketball/usa/nba-...          0.0   \n",
       "2  https://www.oddsportal.com/basketball/usa/nba-...          1.0   \n",
       "3  https://www.oddsportal.com/basketball/usa/nba-...          0.0   \n",
       "4  https://www.oddsportal.com/basketball/usa/nba-...          0.0   \n",
       "\n",
       "   Implied probability          Home_name   Away_name                Date  \\\n",
       "0                 0.67  San Antonio Spurs  Miami Heat 2014-06-16 03:00:00   \n",
       "1                 0.34  San Antonio Spurs  Miami Heat 2014-06-16 03:00:00   \n",
       "2                 0.50  San Antonio Spurs  Miami Heat 2014-06-16 03:00:00   \n",
       "3                 0.50  San Antonio Spurs  Miami Heat 2014-06-16 03:00:00   \n",
       "4                 0.48  San Antonio Spurs  Miami Heat 2014-06-16 03:00:00   \n",
       "\n",
       "  League     Season  \n",
       "0    NBA  2013/2014  \n",
       "1    NBA  2013/2014  \n",
       "2    NBA  2013/2014  \n",
       "3    NBA  2013/2014  \n",
       "4    NBA  2013/2014  "
      ]
     },
     "execution_count": 23,
     "metadata": {},
     "output_type": "execute_result"
    }
   ],
   "source": [
    "# exclude current season's data from analysis\n",
    "_df = df_bets[df_bets.Season != \"2018/2019\"].copy()\n",
    "_df.head()"
   ]
  },
  {
   "cell_type": "code",
   "execution_count": 24,
   "metadata": {},
   "outputs": [
    {
     "name": "stderr",
     "output_type": "stream",
     "text": [
      "C:\\Users\\Tomas\\PycharmProjects\\Interesting_Sport_Stats\\venv\\lib\\site-packages\\scipy\\stats\\stats.py:1713: FutureWarning: Using a non-tuple sequence for multidimensional indexing is deprecated; use `arr[tuple(seq)]` instead of `arr[seq]`. In the future this will be interpreted as an array index, `arr[np.array(seq)]`, which will result either in an error or a different result.\n",
      "  return np.add.reduce(sorted[indexer] * weights, axis=axis) / sumval\n"
     ]
    },
    {
     "data": {
      "image/png": "[encoded data removed]",
      "text/plain": [
       "<Figure size 1008x432 with 1 Axes>"
      ]
     },
     "metadata": {
      "needs_background": "light"
     },
     "output_type": "display_data"
    }
   ],
   "source": [
    "# group implied probabilities\n",
    "_groupedby_object = _df.groupby([\"Implied probability\"])[\"Bet outcome\"].mean()\n",
    "_df = pd.DataFrame({'Observed probability': _groupedby_object}).reset_index()\n",
    "# exclude outliers, data poitns with observed probability of 0 or 1\n",
    "_df = _df[(_df[\"Observed probability\"]<1) & (_df[\"Observed probability\"]>0)]\n",
    "\n",
    "# Calcualte Pearson coerelation cofficient\n",
    "corr_coeff = _df[\"Implied probability\"].corr(_df[\"Observed probability\"]) \n",
    "\n",
    "# plot all data\n",
    "plt.figure(figsize=(14, 6))\n",
    "ax = sns.regplot(x=\"Implied probability\", y=\"Observed probability\", data=_df, color=\"#297192\")\n",
    "ax.plot([0,1], [0,1], \"k--\")\n",
    "ax.set_title(\"Pearson correlation coefficent {:.3f}\".format(corr_coeff), fontsize=18)\n",
    "ax.tick_params(axis='both', which='major', labelsize=16)\n",
    "ax.set_xlabel(\"Implied propability\", fontsize=18)\n",
    "ax.set_ylabel(\"Observed propability\", fontsize=18)\n",
    "ax.set_xlim(0, 1)\n",
    "ax.set_ylim(0, 1);\n",
    "plt.savefig(\"images/observed_prob_vs_implied_NBA_13_18_data.png\", dpi=200, format=\"png\", bbox_inches=\"tight\");"
   ]
  },
  {
   "cell_type": "markdown",
   "metadata": {},
   "source": [
    "# 3. Totals market analysis\n",
    "Totals- total points scored per game by both teams. Let's investigate, whatever some paterns could be found.\n",
    "## 3.1. Total points scored per game per seasons"
   ]
  },
  {
   "cell_type": "code",
   "execution_count": 25,
   "metadata": {},
   "outputs": [
    {
     "data": {
      "image/png": "[encoded data removed]",
      "text/plain": [
       "<Figure size 1152x360 with 1 Axes>"
      ]
     },
     "metadata": {
      "needs_background": "light"
     },
     "output_type": "display_data"
    }
   ],
   "source": [
    "# exclude current season\n",
    "_df = df[df.Season != \"2018/2019\"]\n",
    "# supress warning\n",
    "pd.options.mode.chained_assignment = None\n",
    "# rename overtime column\n",
    "_df[\"OT\"] = _df[\"OT\"].map({0: \"w/o overtime\", 1: \"w/ overtime\"})\n",
    "# return to default warnings\n",
    "pd.options.mode.chained_assignment = 'warn'\n",
    "\n",
    "# plot all data\n",
    "f, ax1 = plt.subplots(figsize=(16,5))\n",
    "sns.catplot(x=\"Season\", y=\"Total\", hue=\"OT\", capsize=.2, palette=\"YlGnBu_d\", height=4, aspect=1.75,\n",
    "            kind=\"point\", data=_df, legend_out = False, ax=ax1)\n",
    "# rename legend\n",
    "ax1.legend(loc=2, fontsize=16)\n",
    "ax1.tick_params(axis='both', which='major', labelsize=16)\n",
    "ax1.set_ylabel(\"Total points scored\", fontsize=18)\n",
    "ax1.set_xlabel(\"Season\", fontsize=18)\n",
    "# close dummy plot\n",
    "plt.close(2)\n",
    "plt.savefig(\"images/NBA_total_points_scored.png\", dpi=200, format=\"png\", bbox_inches=\"tight\");"
   ]
  },
  {
   "cell_type": "markdown",
   "metadata": {},
   "source": [
    "## 3.2 Over/under bets\n",
    "One can observe that average points scored per game increases. This raises a question \"whatever markets ajust to this at the begining of the season?\""
   ]
  },
  {
   "cell_type": "code",
   "execution_count": 26,
   "metadata": {},
   "outputs": [
    {
     "data": {
      "text/html": [
       "<div>\n",
       "<style scoped>\n",
       "    .dataframe tbody tr th:only-of-type {\n",
       "        vertical-align: middle;\n",
       "    }\n",
       "\n",
       "    .dataframe tbody tr th {\n",
       "        vertical-align: top;\n",
       "    }\n",
       "\n",
       "    .dataframe thead th {\n",
       "        text-align: right;\n",
       "    }\n",
       "</style>\n",
       "<table border=\"1\" class=\"dataframe\">\n",
       "  <thead>\n",
       "    <tr style=\"text-align: right;\">\n",
       "      <th></th>\n",
       "      <th>Bet type</th>\n",
       "      <th>Bet subtype</th>\n",
       "      <th>Odds</th>\n",
       "      <th>Net outcome</th>\n",
       "      <th>Total implied probability</th>\n",
       "      <th>URL</th>\n",
       "      <th>Bet outcome</th>\n",
       "      <th>Implied probability</th>\n",
       "      <th>Home_name</th>\n",
       "      <th>Away_name</th>\n",
       "      <th>Date</th>\n",
       "      <th>League</th>\n",
       "      <th>Season</th>\n",
       "      <th>Month</th>\n",
       "    </tr>\n",
       "  </thead>\n",
       "  <tbody>\n",
       "    <tr>\n",
       "      <th>5</th>\n",
       "      <td>OU</td>\n",
       "      <td>Under</td>\n",
       "      <td>1.91</td>\n",
       "      <td>1.10</td>\n",
       "      <td>0.999751</td>\n",
       "      <td>https://www.oddsportal.com/basketball/usa/nba-...</td>\n",
       "      <td>1.0</td>\n",
       "      <td>0.52</td>\n",
       "      <td>San Antonio Spurs</td>\n",
       "      <td>Miami Heat</td>\n",
       "      <td>2014-06-16 03:00:00</td>\n",
       "      <td>NBA</td>\n",
       "      <td>2013/2014</td>\n",
       "      <td>Jun</td>\n",
       "    </tr>\n",
       "    <tr>\n",
       "      <th>11</th>\n",
       "      <td>OU</td>\n",
       "      <td>Under</td>\n",
       "      <td>2.03</td>\n",
       "      <td>0.97</td>\n",
       "      <td>1.000225</td>\n",
       "      <td>https://www.oddsportal.com/basketball/usa/nba-...</td>\n",
       "      <td>1.0</td>\n",
       "      <td>0.49</td>\n",
       "      <td>Miami Heat</td>\n",
       "      <td>San Antonio Spurs</td>\n",
       "      <td>2014-06-13 04:00:00</td>\n",
       "      <td>NBA</td>\n",
       "      <td>2013/2014</td>\n",
       "      <td>Jun</td>\n",
       "    </tr>\n",
       "    <tr>\n",
       "      <th>17</th>\n",
       "      <td>OU</td>\n",
       "      <td>Under</td>\n",
       "      <td>1.97</td>\n",
       "      <td>-1.00</td>\n",
       "      <td>1.012665</td>\n",
       "      <td>https://www.oddsportal.com/basketball/usa/nba-...</td>\n",
       "      <td>0.0</td>\n",
       "      <td>0.51</td>\n",
       "      <td>Miami Heat</td>\n",
       "      <td>San Antonio Spurs</td>\n",
       "      <td>2014-06-11 04:00:00</td>\n",
       "      <td>NBA</td>\n",
       "      <td>2013/2014</td>\n",
       "      <td>Jun</td>\n",
       "    </tr>\n",
       "    <tr>\n",
       "      <th>23</th>\n",
       "      <td>OU</td>\n",
       "      <td>Under</td>\n",
       "      <td>1.98</td>\n",
       "      <td>1.02</td>\n",
       "      <td>1.000100</td>\n",
       "      <td>https://www.oddsportal.com/basketball/usa/nba-...</td>\n",
       "      <td>1.0</td>\n",
       "      <td>0.51</td>\n",
       "      <td>San Antonio Spurs</td>\n",
       "      <td>Miami Heat</td>\n",
       "      <td>2014-06-09 03:00:00</td>\n",
       "      <td>NBA</td>\n",
       "      <td>2013/2014</td>\n",
       "      <td>Jun</td>\n",
       "    </tr>\n",
       "    <tr>\n",
       "      <th>29</th>\n",
       "      <td>OU</td>\n",
       "      <td>Under</td>\n",
       "      <td>1.98</td>\n",
       "      <td>-1.00</td>\n",
       "      <td>0.995247</td>\n",
       "      <td>https://www.oddsportal.com/basketball/usa/nba-...</td>\n",
       "      <td>0.0</td>\n",
       "      <td>0.51</td>\n",
       "      <td>San Antonio Spurs</td>\n",
       "      <td>Miami Heat</td>\n",
       "      <td>2014-06-06 04:00:00</td>\n",
       "      <td>NBA</td>\n",
       "      <td>2013/2014</td>\n",
       "      <td>Jun</td>\n",
       "    </tr>\n",
       "  </tbody>\n",
       "</table>\n",
       "</div>"
      ],
      "text/plain": [
       "   Bet type Bet subtype  Odds  Net outcome  Total implied probability  \\\n",
       "5        OU       Under  1.91         1.10                   0.999751   \n",
       "11       OU       Under  2.03         0.97                   1.000225   \n",
       "17       OU       Under  1.97        -1.00                   1.012665   \n",
       "23       OU       Under  1.98         1.02                   1.000100   \n",
       "29       OU       Under  1.98        -1.00                   0.995247   \n",
       "\n",
       "                                                  URL  Bet outcome  \\\n",
       "5   https://www.oddsportal.com/basketball/usa/nba-...          1.0   \n",
       "11  https://www.oddsportal.com/basketball/usa/nba-...          1.0   \n",
       "17  https://www.oddsportal.com/basketball/usa/nba-...          0.0   \n",
       "23  https://www.oddsportal.com/basketball/usa/nba-...          1.0   \n",
       "29  https://www.oddsportal.com/basketball/usa/nba-...          0.0   \n",
       "\n",
       "    Implied probability          Home_name          Away_name  \\\n",
       "5                  0.52  San Antonio Spurs         Miami Heat   \n",
       "11                 0.49         Miami Heat  San Antonio Spurs   \n",
       "17                 0.51         Miami Heat  San Antonio Spurs   \n",
       "23                 0.51  San Antonio Spurs         Miami Heat   \n",
       "29                 0.51  San Antonio Spurs         Miami Heat   \n",
       "\n",
       "                  Date League     Season Month  \n",
       "5  2014-06-16 03:00:00    NBA  2013/2014   Jun  \n",
       "11 2014-06-13 04:00:00    NBA  2013/2014   Jun  \n",
       "17 2014-06-11 04:00:00    NBA  2013/2014   Jun  \n",
       "23 2014-06-09 03:00:00    NBA  2013/2014   Jun  \n",
       "29 2014-06-06 04:00:00    NBA  2013/2014   Jun  "
      ]
     },
     "execution_count": 26,
     "metadata": {},
     "output_type": "execute_result"
    }
   ],
   "source": [
    "# conditions\n",
    "cond_1 = df_bets[\"Bet type\"] == \"OU\" # take only over/under bets\n",
    "cond_2 = df_bets[\"Season\"] != \"2018/2019\" # exclude unfinished season\n",
    "\n",
    "# make datetime DataFrame's index\n",
    "_df = df_bets[cond_1 & cond_2].copy()\n",
    "# create new collumn which tells whatever bet was on over\n",
    "_df[\"Bet subtype\"] = _df[\"Bet subtype\"].apply(lambda x: \"Over\" if x[:4]==\"Over\" else \"Under\")\n",
    "# drop voided bets\n",
    "_df = _df.dropna()\n",
    "# filter out Under bets, so no duplicates would be present\n",
    "_df = _df[_df[\"Bet subtype\"]==\"Under\"]\n",
    "# add month column\n",
    "_df['Month'] = _df['Date'].map(lambda x: int(x.month))\n",
    "# exclude Spetember, because only 9 games were played in total\n",
    "_df = _df[_df.Month!=9]\n",
    "# rename Months from numbers to abreviations\n",
    "_df[\"Month\"] = _df[\"Month\"].map({1:\"Jan\", 2:\"Feb\", 3: \"Mar\", 4: \"Apl\", 5: \"May\", 6: \"Jun\", 7: \"Jul\",\n",
    "                                 8: \"Aug\", 9: \"Sep\", 10: \"Oct\", 11: \"Nov\", 12: \"Dec\"})\n",
    "_df.head()"
   ]
  },
  {
   "cell_type": "code",
   "execution_count": 27,
   "metadata": {},
   "outputs": [
    {
     "data": {
      "text/html": [
       "<div>\n",
       "<style scoped>\n",
       "    .dataframe tbody tr th:only-of-type {\n",
       "        vertical-align: middle;\n",
       "    }\n",
       "\n",
       "    .dataframe tbody tr th {\n",
       "        vertical-align: top;\n",
       "    }\n",
       "\n",
       "    .dataframe thead th {\n",
       "        text-align: right;\n",
       "    }\n",
       "</style>\n",
       "<table border=\"1\" class=\"dataframe\">\n",
       "  <thead>\n",
       "    <tr style=\"text-align: right;\">\n",
       "      <th></th>\n",
       "      <th>League</th>\n",
       "      <th>Season</th>\n",
       "      <th>Month</th>\n",
       "      <th>Returns</th>\n",
       "    </tr>\n",
       "  </thead>\n",
       "  <tbody>\n",
       "    <tr>\n",
       "      <th>0</th>\n",
       "      <td>NBA</td>\n",
       "      <td>2013/2014</td>\n",
       "      <td>Apl</td>\n",
       "      <td>-14.228188</td>\n",
       "    </tr>\n",
       "    <tr>\n",
       "      <th>1</th>\n",
       "      <td>NBA</td>\n",
       "      <td>2013/2014</td>\n",
       "      <td>Dec</td>\n",
       "      <td>-9.761421</td>\n",
       "    </tr>\n",
       "    <tr>\n",
       "      <th>2</th>\n",
       "      <td>NBA</td>\n",
       "      <td>2013/2014</td>\n",
       "      <td>Feb</td>\n",
       "      <td>-1.745562</td>\n",
       "    </tr>\n",
       "    <tr>\n",
       "      <th>3</th>\n",
       "      <td>NBA</td>\n",
       "      <td>2013/2014</td>\n",
       "      <td>Jan</td>\n",
       "      <td>5.794393</td>\n",
       "    </tr>\n",
       "    <tr>\n",
       "      <th>4</th>\n",
       "      <td>NBA</td>\n",
       "      <td>2013/2014</td>\n",
       "      <td>Jun</td>\n",
       "      <td>21.800000</td>\n",
       "    </tr>\n",
       "  </tbody>\n",
       "</table>\n",
       "</div>"
      ],
      "text/plain": [
       "  League     Season Month    Returns\n",
       "0    NBA  2013/2014   Apl -14.228188\n",
       "1    NBA  2013/2014   Dec  -9.761421\n",
       "2    NBA  2013/2014   Feb  -1.745562\n",
       "3    NBA  2013/2014   Jan   5.794393\n",
       "4    NBA  2013/2014   Jun  21.800000"
      ]
     },
     "execution_count": 27,
     "metadata": {},
     "output_type": "execute_result"
    }
   ],
   "source": [
    "# bet only on overs, multyply by 100 to get percentages\n",
    "_returns = _df.groupby([\"League\", \"Season\", \"Month\"])[\"Net outcome\"].mean()*100\n",
    "_df = pd.DataFrame({\"Returns\": _returns}).reset_index()\n",
    "_df.head()"
   ]
  },
  {
   "cell_type": "code",
   "execution_count": 28,
   "metadata": {},
   "outputs": [
    {
     "data": {
      "image/png": "[encoded data removed]",
      "text/plain": [
       "<Figure size 1152x504 with 1 Axes>"
      ]
     },
     "metadata": {
      "needs_background": "light"
     },
     "output_type": "display_data"
    }
   ],
   "source": [
    "# plot results\n",
    "f, ax1 = plt.subplots(figsize=(16,7))\n",
    "f.suptitle('Betting only on unders', y=0.93, fontsize=18)\n",
    "# exclude semptember because of low amout of data\n",
    "sns.boxplot(x=\"Month\", y=\"Returns\", hue=\"League\", data=_df, ax=ax1, palette=\"YlGnBu_d\",\n",
    "           order=[\"Oct\", \"Nov\", \"Dec\", \"Jan\", \"Feb\", \"Mar\", \"Apl\", \"May\", \"Jun\"])\n",
    "ax1.plot([-1, 13], [0, 0], \"k--\", alpha=0.8)\n",
    "ax1.tick_params(axis='both', which='major', labelsize=16)\n",
    "ax1.set_ylabel(\"Return of investment (%) per season\", fontsize=18)\n",
    "ax1.set_xlabel(\"Month\", fontsize=18)\n",
    "ax1.legend(loc=2, fontsize=18);\n",
    "# Save figure\n",
    "plt.savefig(\"images/betting_on_unders_NBA.png\", dpi=200, format=\"png\", bbox_inches=\"tight\")"
   ]
  },
  {
   "cell_type": "code",
   "execution_count": 29,
   "metadata": {},
   "outputs": [
    {
     "name": "stdout",
     "output_type": "stream",
     "text": [
      "657 bets placed\n",
      "48.44 units won\n",
      "7.37% ROI\n"
     ]
    }
   ],
   "source": [
    "# conditions\n",
    "cond_1 = df_bets[\"Bet type\"] == \"OU\" # take only over/under bets\n",
    "cond_2 = df_bets[\"Season\"] != \"2018/2019\" # exclude unfinished season\n",
    "# make datetime DataFrame's index\n",
    "_df = df_bets[cond_1 & cond_2].copy()\n",
    "\n",
    "# create new collumn which tells whatever bet was on over\n",
    "_df[\"Bet subtype\"] = _df[\"Bet subtype\"].apply(lambda x: \"Over\" if x[:4]==\"Over\" else \"Under\")\n",
    "# add month column\n",
    "_df['Month'] = _df['Date'].map(lambda x: int(x.month))\n",
    "\n",
    "cond_1 = _df[\"Bet subtype\"] == \"Under\" # get only over/under markets\n",
    "cond_2 = _df[\"Month\"] == 10 # get only October matches\n",
    "cond_3 = _df[\"League\"] == \"NBA\" # bet only on NBA\n",
    "\n",
    "units = _df[cond_1 & cond_2 & cond_3][\"Net outcome\"].sum()\n",
    "ROI = _df[cond_1 & cond_2 & cond_3][\"Net outcome\"].mean()*100\n",
    "bets_placed = _df[cond_1 & cond_2 & cond_3][\"Net outcome\"].count() \n",
    "print(\"{:.0f} bets placed\".format(bets_placed))\n",
    "print(\"{:.2f} units won\".format(units))\n",
    "print(\"{:.2f}% ROI\".format(ROI))\n",
    "\n",
    "# sort bets based on the date\n",
    "_df = _df.sort_values([\"Date\"])\n",
    "\n",
    "# fill NAN values with zeros\n",
    "_df = _df.fillna(0)"
   ]
  },
  {
   "cell_type": "code",
   "execution_count": 30,
   "metadata": {},
   "outputs": [
    {
     "name": "stderr",
     "output_type": "stream",
     "text": [
      "C:\\Users\\Tomas\\PycharmProjects\\Interesting_Sport_Stats\\venv\\lib\\site-packages\\ipykernel_launcher.py:6: UserWarning: Boolean Series key will be reindexed to match DataFrame index.\n",
      "  \n",
      "C:\\Users\\Tomas\\PycharmProjects\\Interesting_Sport_Stats\\venv\\lib\\site-packages\\ipykernel_launcher.py:8: UserWarning: Boolean Series key will be reindexed to match DataFrame index.\n",
      "  \n"
     ]
    },
    {
     "data": {
      "image/png": "[encoded data removed]",
      "text/plain": [
       "<Figure size 1152x432 with 1 Axes>"
      ]
     },
     "metadata": {
      "needs_background": "light"
     },
     "output_type": "display_data"
    }
   ],
   "source": [
    "# plot results\n",
    "f, ax1 = plt.subplots(figsize=(16,6))\n",
    "f.suptitle('Betting only on Unders in October', y=0.94, fontsize=18)\n",
    "\n",
    "# get bet numbers\n",
    "X = pd.Series(np.arange(0, _df[cond_1 & cond_2 & cond_3].shape[0]+1)).values\n",
    "# get cummunitative sum for bets\n",
    "Y = _df[cond_1 & cond_2 & cond_3][\"Net outcome\"].cumsum().values\n",
    "Y = np.append([0], Y)\n",
    "# baseline\n",
    "ax1.plot([0, 657], [0, 0], \"k--\", alpha=0.8)\n",
    "ax1.plot(Y, label=\"NBA\", color=\"#297192\", alpha=0.9)\n",
    "# manually add ticks where season ended (for text substract 35 from x position)\n",
    "ax1.plot([121, 121], [5, -5], \"k-\", alpha=0.8)\n",
    "ax1.text(86, -10, \"2013/2014\", fontsize=16)\n",
    "ax1.plot([238, 238], [5, -5], \"k-\", alpha=0.8)\n",
    "ax1.text(203, -10, \"2014/2015\", fontsize=16)\n",
    "ax1.plot([362, 362], [5, -5], \"k-\", alpha=0.8)\n",
    "ax1.text(327, -10, \"2015/2016\", fontsize=16)\n",
    "ax1.plot([490, 490], [5, -5], \"k-\", alpha=0.8)\n",
    "ax1.text(455, -10, \"2016/2017\", fontsize=16)\n",
    "ax1.plot([657, 657], [5, -5], \"k-\", alpha=0.8)\n",
    "ax1.text(602, -10, \"2017/2018\", fontsize=16)\n",
    "# manually show unit change over seasons\n",
    "ax1.scatter([0, 121, 238, 362, 490, 657], [0, 13, 18.36, 26.35, 37.5, 48.44],\n",
    "            color=\"#e74c3c\", edgecolors='k', zorder=10)\n",
    "\n",
    "ax1.text(550, 27, \"{:.0f} bets placed\".format(bets_placed), fontsize=18)\n",
    "ax1.text(550, 20, \"{:.2f} units won\".format(units), fontsize=18)\n",
    "ax1.text(550, 13, \"{:.2f}% ROI\".format(ROI), fontsize=18)\n",
    "\n",
    "ax1.tick_params(axis='both', which='major', labelsize=16)\n",
    "ax1.set_ylabel(\"Units\", fontsize=18)\n",
    "ax1.set_xlabel(\"Number of bets\", fontsize=18);\n",
    "ax1.set_ylim(-12.5, 57.5)\n",
    "ax1.legend(loc=2, fontsize=18);\n",
    "# Save figure\n",
    "plt.savefig(\"images/NBA_under_bets_ver_2.png\", dpi=200, format=\"png\", bbox_inches=\"tight\")"
   ]
  },
  {
   "cell_type": "markdown",
   "metadata": {},
   "source": [
    "### 3.2.2 Current season unders performance"
   ]
  },
  {
   "cell_type": "code",
   "execution_count": 31,
   "metadata": {},
   "outputs": [
    {
     "name": "stdout",
     "output_type": "stream",
     "text": [
      "158 bets placed\n",
      "-11.03 units won\n",
      "-6.98% ROI\n"
     ]
    }
   ],
   "source": [
    "# conditions\n",
    "cond_1 = df_bets[\"Bet type\"] == \"OU\" # take only over/under bets\n",
    "cond_2 = df_bets[\"Season\"] == \"2018/2019\" # check unfinished season\n",
    "# make datetime DataFrame's index\n",
    "_df = df_bets[cond_1 & cond_2].copy()\n",
    "\n",
    "# create new collumn which tells whatever bet was on over\n",
    "_df[\"Bet subtype\"] = _df[\"Bet subtype\"].apply(lambda x: \"Over\" if x[:4]==\"Over\" else \"Under\")\n",
    "# add month column\n",
    "_df['Month'] = _df['Date'].map(lambda x: int(x.month))\n",
    "\n",
    "cond_1 = _df[\"Bet subtype\"] == \"Under\" # get only over/under markets\n",
    "cond_2 = _df[\"Month\"] == 10 # get only October matches\n",
    "cond_3 = _df[\"League\"] == \"NBA\" # bet only on NBA\n",
    "\n",
    "units = _df[cond_1 & cond_2 & cond_3][\"Net outcome\"].sum()\n",
    "ROI = _df[cond_1 & cond_2 & cond_3][\"Net outcome\"].mean()*100\n",
    "bets_placed = _df[cond_1 & cond_2 & cond_3][\"Net outcome\"].count() \n",
    "print(\"{:.0f} bets placed\".format(bets_placed))\n",
    "print(\"{:.2f} units won\".format(units))\n",
    "print(\"{:.2f}% ROI\".format(ROI))\n",
    "\n",
    "# sort bets based on the date\n",
    "_df = _df.sort_values([\"Date\"])\n",
    "\n",
    "# fill NAN values with zeros\n",
    "_df = _df.fillna(0)"
   ]
  },
  {
   "cell_type": "code",
   "execution_count": null,
   "metadata": {},
   "outputs": [],
   "source": []
  }
 ],
 "metadata": {
  "kernelspec": {
   "display_name": "Python 3",
   "language": "python",
   "name": "python3"
  },
  "language_info": {
   "codemirror_mode": {
    "name": "ipython",
    "version": 3
   },
   "file_extension": ".py",
   "mimetype": "text/x-python",
   "name": "python",
   "nbconvert_exporter": "python",
   "pygments_lexer": "ipython3",
   "version": "3.6.6"
  }
 },
 "nbformat": 4,
 "nbformat_minor": 2
}
