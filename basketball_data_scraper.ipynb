{
 "cells": [
  {
   "cell_type": "markdown",
   "metadata": {},
   "source": [
    "# Import packages\n",
    "Oddsportal has dynamic content, i.e. javascript rendered page. I used `selenium` package to load and render url content with Morzilla Firefox then parsed source code to `BeautifulSoup` to extract information of interest."
   ]
  },
  {
   "cell_type": "code",
   "execution_count": 1,
   "metadata": {},
   "outputs": [],
   "source": [
    "from selenium import webdriver\n",
    "import bs4\n",
    "import pandas as pd\n",
    "import numpy as np"
   ]
  },
  {
   "cell_type": "markdown",
   "metadata": {},
   "source": [
    "## Helper functions for processing HTML code"
   ]
  },
  {
   "cell_type": "code",
   "execution_count": 2,
   "metadata": {},
   "outputs": [],
   "source": [
    "def process_soup(soup, league, season):\n",
    "    \"\"\"\n",
    "    Input:\n",
    "        soup: bs4.BeautifulSoup element (HTML source code parced with selenium webdriver)\n",
    "        league: string, e.g. NBA or Euro\n",
    "        season: string  e.g. 2017/1018 or 2013/2014\n",
    "    Output:\n",
    "        List of list. Each list element contains a size of 5 list\n",
    "        [total score (int), who won (1: home, 0:away), was overtime (0: Yes, 1: No), home team coef., away team coef.]\n",
    "    \"\"\"\n",
    "    _data = list()\n",
    "    rows = soup.tbody.findAll('tr')\n",
    "    for row in rows:\n",
    "        if len(row.contents) == 6:\n",
    "            # get score string\n",
    "            score = row.find(\"td\", {\"class\": \"center bold table-odds table-score\"}).text\n",
    "            # get home and away prices\n",
    "            home_price = float(row.contents[-3].text)\n",
    "            away_price = float(row.contents[-2].text)\n",
    "\n",
    "            _data.append([league, season]+process_score(score)+[home_price, away_price])\n",
    "    return _data\n",
    "\n",
    "\n",
    "def process_score(string):\n",
    "    \"\"\"\n",
    "    Input:\n",
    "        score string, e.g. \"124:114 OT\" or \"122:104\". OT (overtime)\n",
    "    Output:\n",
    "        list [total score (float), who won (1: home, 0: away), was were overtime (1: Yes, 0: No)]\n",
    "    \"\"\"\n",
    "    if len(string.split(\":\")) != 2:\n",
    "        print(\"Teams names: {}\".format(string))\n",
    "        return [np.nan, np.nan, np.nan, np.nan]\n",
    "    # check whatver there was overtime. Extract final score for home and away teams\n",
    "    if string[-2:] == \"OT\":\n",
    "        _ot = 1\n",
    "        home_score = convert_2_int(string[:-3].split(\":\")[0])\n",
    "        away_score = convert_2_int(string[:-3].split(\":\")[1])\n",
    "    else:\n",
    "        _ot = 0\n",
    "        home_score = convert_2_int(string.split(\":\")[0])\n",
    "        away_score = convert_2_int(string.split(\":\")[1])\n",
    "    \n",
    "    # check who won match\n",
    "    if home_score > away_score:\n",
    "        _win = 1\n",
    "    else:\n",
    "        _win = 0\n",
    "        \n",
    "    return [home_score, away_score, _win, _ot]\n",
    "\n",
    "\n",
    "def convert_2_int(string):\n",
    "    \"\"\"\n",
    "    Input:\n",
    "        string: e.g. \"123\" or \"93\"\n",
    "    Output:\n",
    "        int:\n",
    "    If ValueError, print problematic string and return NAN value\n",
    "    \"\"\"\n",
    "    try:\n",
    "        return int(string)\n",
    "    except ValueError:\n",
    "        print(\"Input {} could not be converted to integer\".format(string))\n",
    "        return np.nan"
   ]
  },
  {
   "cell_type": "markdown",
   "metadata": {},
   "source": [
    "## Initiate webdriver\n",
    "`executable_path` points to excecutable used to connect to Firefox. To use different browser download approprate geckodriver (hyperlink) or refer to this Stack exchange post."
   ]
  },
  {
   "cell_type": "code",
   "execution_count": 3,
   "metadata": {},
   "outputs": [
    {
     "name": "stdout",
     "output_type": "stream",
     "text": [
      "Wall time: 5.29 s\n"
     ]
    }
   ],
   "source": [
    "%%time\n",
    "driver = webdriver.Firefox(executable_path=r\"geckodriver.exe\")"
   ]
  },
  {
   "cell_type": "markdown",
   "metadata": {},
   "source": [
    "## Load NBA and Euroleague 2013-2018 season data\n",
    "`season_dict` dictonary keys are  league and season names, while values are tuples (url, number of pages to iterate over)."
   ]
  },
  {
   "cell_type": "code",
   "execution_count": 4,
   "metadata": {},
   "outputs": [],
   "source": [
    "season_dict = {\n",
    "    \"NBA_2017/2018\": (\"https://www.oddsportal.com/basketball/usa/nba-2017-2018/results/#/page/\", 28),\n",
    "    \"NBA_2016/2017\": (\"https://www.oddsportal.com/basketball/usa/nba-2016-2017/results/#/page/\", 29),\n",
    "    \"NBA_2015/2016\": (\"https://www.oddsportal.com/basketball/usa/nba-2015-2016/results/#/page/\", 29),\n",
    "    \"NBA_2014/2015\": (\"https://www.oddsportal.com/basketball/usa/nba-2014-2015/results/#/page/\", 29),\n",
    "    \"NBA_2013/2014\": (\"https://www.oddsportal.com/basketball/usa/nba-2013-2014/results/#/page/\", 29),\n",
    "    \"EURO_2017/2018\": (\"https://www.oddsportal.com/basketball/europe/euroleague-2017-2018/results/#/page/\", 6),\n",
    "    \"EURO_2016/2017\": (\"https://www.oddsportal.com/basketball/europe/euroleague-2016-2017/results/#/page/\", 6),\n",
    "    \"EURO_2015/2016\": (\"https://www.oddsportal.com/basketball/europe/euroleague-2015-2016/results/#/page/\", 5),\n",
    "    \"EURO_2014/2015\": (\"https://www.oddsportal.com/basketball/europe/euroleague-2014-2015/results/#/page/\", 6),\n",
    "    \"EURO_2013/2014\": (\"https://www.oddsportal.com/basketball/europe/euroleague-2013-2014/results/#/page/\", 6)\n",
    "}"
   ]
  },
  {
   "cell_type": "markdown",
   "metadata": {},
   "source": [
    "## Read scored points and team averaged coefficients"
   ]
  },
  {
   "cell_type": "code",
   "execution_count": 5,
   "metadata": {},
   "outputs": [
    {
     "name": "stdout",
     "output_type": "stream",
     "text": [
      "Teams names: canc.\n",
      "Teams names: canc.\n",
      "Wall time: 1min 19s\n"
     ]
    }
   ],
   "source": [
    "%%time\n",
    "all_data = list()\n",
    "for key in season_dict.keys():\n",
    "    # Load main url page\n",
    "    url = season_dict[key][0]\n",
    "    # Extract league and season from key string\n",
    "    league = key.split(\"_\")[0]\n",
    "    season = key.split(\"_\")[1]\n",
    "    # Iterate over all pages for particular season\n",
    "    for idx in range(1, season_dict[key][1]+1):\n",
    "        # Load page\n",
    "        driver.get(url+str(idx))\n",
    "        # Process HTLM into data\n",
    "        soup = bs4.BeautifulSoup(driver.page_source)\n",
    "        all_data += process_soup(soup, league, season)"
   ]
  },
  {
   "cell_type": "markdown",
   "metadata": {},
   "source": [
    "## Transform data into pandas DataFrame and save it as .csv file"
   ]
  },
  {
   "cell_type": "code",
   "execution_count": 6,
   "metadata": {},
   "outputs": [
    {
     "data": {
      "text/html": [
       "<div>\n",
       "<style scoped>\n",
       "    .dataframe tbody tr th:only-of-type {\n",
       "        vertical-align: middle;\n",
       "    }\n",
       "\n",
       "    .dataframe tbody tr th {\n",
       "        vertical-align: top;\n",
       "    }\n",
       "\n",
       "    .dataframe thead th {\n",
       "        text-align: right;\n",
       "    }\n",
       "</style>\n",
       "<table border=\"1\" class=\"dataframe\">\n",
       "  <thead>\n",
       "    <tr style=\"text-align: right;\">\n",
       "      <th></th>\n",
       "      <th>League</th>\n",
       "      <th>Season</th>\n",
       "      <th>Home_score</th>\n",
       "      <th>Away_score</th>\n",
       "      <th>Win</th>\n",
       "      <th>OT</th>\n",
       "      <th>Home_p</th>\n",
       "      <th>Away_p</th>\n",
       "    </tr>\n",
       "  </thead>\n",
       "  <tbody>\n",
       "    <tr>\n",
       "      <th>0</th>\n",
       "      <td>NBA</td>\n",
       "      <td>2017/2018</td>\n",
       "      <td>85.0</td>\n",
       "      <td>108.0</td>\n",
       "      <td>0.0</td>\n",
       "      <td>0.0</td>\n",
       "      <td>2.43</td>\n",
       "      <td>1.61</td>\n",
       "    </tr>\n",
       "    <tr>\n",
       "      <th>1</th>\n",
       "      <td>NBA</td>\n",
       "      <td>2017/2018</td>\n",
       "      <td>102.0</td>\n",
       "      <td>110.0</td>\n",
       "      <td>0.0</td>\n",
       "      <td>0.0</td>\n",
       "      <td>2.28</td>\n",
       "      <td>1.68</td>\n",
       "    </tr>\n",
       "    <tr>\n",
       "      <th>2</th>\n",
       "      <td>NBA</td>\n",
       "      <td>2017/2018</td>\n",
       "      <td>122.0</td>\n",
       "      <td>103.0</td>\n",
       "      <td>1.0</td>\n",
       "      <td>0.0</td>\n",
       "      <td>1.18</td>\n",
       "      <td>5.36</td>\n",
       "    </tr>\n",
       "    <tr>\n",
       "      <th>3</th>\n",
       "      <td>NBA</td>\n",
       "      <td>2017/2018</td>\n",
       "      <td>124.0</td>\n",
       "      <td>114.0</td>\n",
       "      <td>1.0</td>\n",
       "      <td>1.0</td>\n",
       "      <td>1.12</td>\n",
       "      <td>7.26</td>\n",
       "    </tr>\n",
       "    <tr>\n",
       "      <th>4</th>\n",
       "      <td>NBA</td>\n",
       "      <td>2017/2018</td>\n",
       "      <td>92.0</td>\n",
       "      <td>101.0</td>\n",
       "      <td>0.0</td>\n",
       "      <td>0.0</td>\n",
       "      <td>3.34</td>\n",
       "      <td>1.37</td>\n",
       "    </tr>\n",
       "  </tbody>\n",
       "</table>\n",
       "</div>"
      ],
      "text/plain": [
       "  League     Season  Home_score  Away_score  Win   OT  Home_p  Away_p\n",
       "0    NBA  2017/2018        85.0       108.0  0.0  0.0    2.43    1.61\n",
       "1    NBA  2017/2018       102.0       110.0  0.0  0.0    2.28    1.68\n",
       "2    NBA  2017/2018       122.0       103.0  1.0  0.0    1.18    5.36\n",
       "3    NBA  2017/2018       124.0       114.0  1.0  1.0    1.12    7.26\n",
       "4    NBA  2017/2018        92.0       101.0  0.0  0.0    3.34    1.37"
      ]
     },
     "execution_count": 6,
     "metadata": {},
     "output_type": "execute_result"
    }
   ],
   "source": [
    "df = pd.DataFrame(all_data, columns=[\"League\", \"Season\", \"Home_score\", \"Away_score\", \"Win\", \"OT\", \"Home_p\", \"Away_p\"])\n",
    "df.to_csv(\"basketball_scores.csv\")\n",
    "df.head()"
   ]
  },
  {
   "cell_type": "markdown",
   "metadata": {},
   "source": [
    "## Turn off webdriver"
   ]
  },
  {
   "cell_type": "code",
   "execution_count": 7,
   "metadata": {},
   "outputs": [],
   "source": [
    "driver.quit()"
   ]
  },
  {
   "cell_type": "code",
   "execution_count": null,
   "metadata": {},
   "outputs": [],
   "source": []
  }
 ],
 "metadata": {
  "kernelspec": {
   "display_name": "Python 3",
   "language": "python",
   "name": "python3"
  },
  "language_info": {
   "codemirror_mode": {
    "name": "ipython",
    "version": 3
   },
   "file_extension": ".py",
   "mimetype": "text/x-python",
   "name": "python",
   "nbconvert_exporter": "python",
   "pygments_lexer": "ipython3",
   "version": "3.6.6"
  }
 },
 "nbformat": 4,
 "nbformat_minor": 1
}
